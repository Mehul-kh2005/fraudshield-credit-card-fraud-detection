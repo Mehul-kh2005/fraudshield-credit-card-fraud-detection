{
 "cells": [
  {
   "cell_type": "code",
   "execution_count": 1,
   "id": "d015c5b1",
   "metadata": {},
   "outputs": [],
   "source": [
    "# ✅ Importing required libraries\n",
    "import numpy as np\n",
    "import pandas as pd\n",
    "import matplotlib.pyplot as plt\n",
    "import seaborn as sns\n",
    "\n",
    "from sklearn.preprocessing import StandardScaler\n",
    "from sklearn.model_selection import train_test_split\n",
    "from collections import Counter"
   ]
  },
  {
   "cell_type": "code",
   "execution_count": 49,
   "id": "b8397b7f",
   "metadata": {},
   "outputs": [
    {
     "name": "stdout",
     "output_type": "stream",
     "text": [
      "Dataset Shape: (284807, 31)\n",
      "First 5 rows:\n",
      "    Time        V1        V2        V3        V4        V5        V6        V7  \\\n",
      "0   0.0 -1.359807 -0.072781  2.536347  1.378155 -0.338321  0.462388  0.239599   \n",
      "1   0.0  1.191857  0.266151  0.166480  0.448154  0.060018 -0.082361 -0.078803   \n",
      "2   1.0 -1.358354 -1.340163  1.773209  0.379780 -0.503198  1.800499  0.791461   \n",
      "3   1.0 -0.966272 -0.185226  1.792993 -0.863291 -0.010309  1.247203  0.237609   \n",
      "4   2.0 -1.158233  0.877737  1.548718  0.403034 -0.407193  0.095921  0.592941   \n",
      "\n",
      "         V8        V9  ...       V21       V22       V23       V24       V25  \\\n",
      "0  0.098698  0.363787  ... -0.018307  0.277838 -0.110474  0.066928  0.128539   \n",
      "1  0.085102 -0.255425  ... -0.225775 -0.638672  0.101288 -0.339846  0.167170   \n",
      "2  0.247676 -1.514654  ...  0.247998  0.771679  0.909412 -0.689281 -0.327642   \n",
      "3  0.377436 -1.387024  ... -0.108300  0.005274 -0.190321 -1.175575  0.647376   \n",
      "4 -0.270533  0.817739  ... -0.009431  0.798278 -0.137458  0.141267 -0.206010   \n",
      "\n",
      "        V26       V27       V28  Amount  Class  \n",
      "0 -0.189115  0.133558 -0.021053  149.62      0  \n",
      "1  0.125895 -0.008983  0.014724    2.69      0  \n",
      "2 -0.139097 -0.055353 -0.059752  378.66      0  \n",
      "3 -0.221929  0.062723  0.061458  123.50      0  \n",
      "4  0.502292  0.219422  0.215153   69.99      0  \n",
      "\n",
      "[5 rows x 31 columns]\n"
     ]
    }
   ],
   "source": [
    "# Step 1: Load Dataset\n",
    "df=pd.read_csv('credit_card.csv')\n",
    "\n",
    "print(\"Dataset Shape:\", df.shape)\n",
    "print(\"First 5 rows:\\n\", df.head())"
   ]
  },
  {
   "cell_type": "code",
   "execution_count": 50,
   "id": "6f66bbf6",
   "metadata": {},
   "outputs": [
    {
     "name": "stdout",
     "output_type": "stream",
     "text": [
      "\n",
      "Dataset Info:\n",
      "<class 'pandas.core.frame.DataFrame'>\n",
      "RangeIndex: 284807 entries, 0 to 284806\n",
      "Data columns (total 31 columns):\n",
      " #   Column  Non-Null Count   Dtype  \n",
      "---  ------  --------------   -----  \n",
      " 0   Time    284807 non-null  float64\n",
      " 1   V1      284807 non-null  float64\n",
      " 2   V2      284807 non-null  float64\n",
      " 3   V3      284807 non-null  float64\n",
      " 4   V4      284807 non-null  float64\n",
      " 5   V5      284807 non-null  float64\n",
      " 6   V6      284807 non-null  float64\n",
      " 7   V7      284807 non-null  float64\n",
      " 8   V8      284807 non-null  float64\n",
      " 9   V9      284807 non-null  float64\n",
      " 10  V10     284807 non-null  float64\n",
      " 11  V11     284807 non-null  float64\n",
      " 12  V12     284807 non-null  float64\n",
      " 13  V13     284807 non-null  float64\n",
      " 14  V14     284807 non-null  float64\n",
      " 15  V15     284807 non-null  float64\n",
      " 16  V16     284807 non-null  float64\n",
      " 17  V17     284807 non-null  float64\n",
      " 18  V18     284807 non-null  float64\n",
      " 19  V19     284807 non-null  float64\n",
      " 20  V20     284807 non-null  float64\n",
      " 21  V21     284807 non-null  float64\n",
      " 22  V22     284807 non-null  float64\n",
      " 23  V23     284807 non-null  float64\n",
      " 24  V24     284807 non-null  float64\n",
      " 25  V25     284807 non-null  float64\n",
      " 26  V26     284807 non-null  float64\n",
      " 27  V27     284807 non-null  float64\n",
      " 28  V28     284807 non-null  float64\n",
      " 29  Amount  284807 non-null  float64\n",
      " 30  Class   284807 non-null  int64  \n",
      "dtypes: float64(30), int64(1)\n",
      "memory usage: 67.4 MB\n",
      "None\n",
      "\n",
      "Missing Values:\n",
      " 0\n"
     ]
    }
   ],
   "source": [
    "# Step 2: Basic Info & Missing Values Check\n",
    "print(\"\\nDataset Info:\")\n",
    "print(df.info())\n",
    "\n",
    "print(\"\\nMissing Values:\\n\", df.isnull().sum().sum())"
   ]
  },
  {
   "cell_type": "code",
   "execution_count": 51,
   "id": "d4ce2d2c",
   "metadata": {},
   "outputs": [
    {
     "data": {
      "image/png": "[encoded data removed]",
      "text/plain": [
       "<Figure size 600x400 with 1 Axes>"
      ]
     },
     "metadata": {},
     "output_type": "display_data"
    }
   ],
   "source": [
    "# Step 3: Target Distribution (Imbalance Check)\n",
    "plt.figure(figsize=(6,4))\n",
    "sns.countplot(data=df,x='Class',palette='Set2',hue='Class')\n",
    "plt.title(\"Class Distribution (0 = Not Fraud, 1 = Fraud)\")\n",
    "plt.show()"
   ]
  },
  {
   "cell_type": "code",
   "execution_count": 52,
   "id": "4ff78ae8",
   "metadata": {},
   "outputs": [
    {
     "name": "stdout",
     "output_type": "stream",
     "text": [
      "\n",
      "Class Distribution:\n",
      " Class\n",
      "0    284315\n",
      "1       492\n",
      "Name: count, dtype: int64\n",
      "Fraudulent transactions: 0.1730% of normal transactions\n"
     ]
    }
   ],
   "source": [
    "fraud_count=df['Class'].value_counts()\n",
    "print(\"\\nClass Distribution:\\n\", fraud_count)\n",
    "print(f\"Fraudulent transactions: {fraud_count[1]/fraud_count[0]*100:.4f}% of normal transactions\")"
   ]
  },
  {
   "cell_type": "code",
   "execution_count": 53,
   "id": "c46e2a03",
   "metadata": {},
   "outputs": [
    {
     "name": "stdout",
     "output_type": "stream",
     "text": [
      "\n",
      "Descriptive Statistics:\n",
      "                 Time            V1            V2            V3            V4  \\\n",
      "count  284807.000000  2.848070e+05  2.848070e+05  2.848070e+05  2.848070e+05   \n",
      "mean    94813.859575  1.168375e-15  3.416908e-16 -1.379537e-15  2.074095e-15   \n",
      "std     47488.145955  1.958696e+00  1.651309e+00  1.516255e+00  1.415869e+00   \n",
      "min         0.000000 -5.640751e+01 -7.271573e+01 -4.832559e+01 -5.683171e+00   \n",
      "25%     54201.500000 -9.203734e-01 -5.985499e-01 -8.903648e-01 -8.486401e-01   \n",
      "50%     84692.000000  1.810880e-02  6.548556e-02  1.798463e-01 -1.984653e-02   \n",
      "75%    139320.500000  1.315642e+00  8.037239e-01  1.027196e+00  7.433413e-01   \n",
      "max    172792.000000  2.454930e+00  2.205773e+01  9.382558e+00  1.687534e+01   \n",
      "\n",
      "                 V5            V6            V7            V8            V9  \\\n",
      "count  2.848070e+05  2.848070e+05  2.848070e+05  2.848070e+05  2.848070e+05   \n",
      "mean   9.604066e-16  1.487313e-15 -5.556467e-16  1.213481e-16 -2.406331e-15   \n",
      "std    1.380247e+00  1.332271e+00  1.237094e+00  1.194353e+00  1.098632e+00   \n",
      "min   -1.137433e+02 -2.616051e+01 -4.355724e+01 -7.321672e+01 -1.343407e+01   \n",
      "25%   -6.915971e-01 -7.682956e-01 -5.540759e-01 -2.086297e-01 -6.430976e-01   \n",
      "50%   -5.433583e-02 -2.741871e-01  4.010308e-02  2.235804e-02 -5.142873e-02   \n",
      "75%    6.119264e-01  3.985649e-01  5.704361e-01  3.273459e-01  5.971390e-01   \n",
      "max    3.480167e+01  7.330163e+01  1.205895e+02  2.000721e+01  1.559499e+01   \n",
      "\n",
      "       ...           V21           V22           V23           V24  \\\n",
      "count  ...  2.848070e+05  2.848070e+05  2.848070e+05  2.848070e+05   \n",
      "mean   ...  1.654067e-16 -3.568593e-16  2.578648e-16  4.473266e-15   \n",
      "std    ...  7.345240e-01  7.257016e-01  6.244603e-01  6.056471e-01   \n",
      "min    ... -3.483038e+01 -1.093314e+01 -4.480774e+01 -2.836627e+00   \n",
      "25%    ... -2.283949e-01 -5.423504e-01 -1.618463e-01 -3.545861e-01   \n",
      "50%    ... -2.945017e-02  6.781943e-03 -1.119293e-02  4.097606e-02   \n",
      "75%    ...  1.863772e-01  5.285536e-01  1.476421e-01  4.395266e-01   \n",
      "max    ...  2.720284e+01  1.050309e+01  2.252841e+01  4.584549e+00   \n",
      "\n",
      "                V25           V26           V27           V28         Amount  \\\n",
      "count  2.848070e+05  2.848070e+05  2.848070e+05  2.848070e+05  284807.000000   \n",
      "mean   5.340915e-16  1.683437e-15 -3.660091e-16 -1.227390e-16      88.349619   \n",
      "std    5.212781e-01  4.822270e-01  4.036325e-01  3.300833e-01     250.120109   \n",
      "min   -1.029540e+01 -2.604551e+00 -2.256568e+01 -1.543008e+01       0.000000   \n",
      "25%   -3.171451e-01 -3.269839e-01 -7.083953e-02 -5.295979e-02       5.600000   \n",
      "50%    1.659350e-02 -5.213911e-02  1.342146e-03  1.124383e-02      22.000000   \n",
      "75%    3.507156e-01  2.409522e-01  9.104512e-02  7.827995e-02      77.165000   \n",
      "max    7.519589e+00  3.517346e+00  3.161220e+01  3.384781e+01   25691.160000   \n",
      "\n",
      "               Class  \n",
      "count  284807.000000  \n",
      "mean        0.001727  \n",
      "std         0.041527  \n",
      "min         0.000000  \n",
      "25%         0.000000  \n",
      "50%         0.000000  \n",
      "75%         0.000000  \n",
      "max         1.000000  \n",
      "\n",
      "[8 rows x 31 columns]\n"
     ]
    }
   ],
   "source": [
    "# Step 4: Descriptive Statistics\n",
    "print(\"\\nDescriptive Statistics:\\n\", df.describe())"
   ]
  },
  {
   "cell_type": "code",
   "execution_count": 54,
   "id": "0d9812d4",
   "metadata": {},
   "outputs": [
    {
     "data": {
      "application/vnd.plotly.v1+json": {
       "config": {
        "plotlyServerURL": "https://plot.ly"
       },
       "data": [
        {
         "coloraxis": "coloraxis",
         "hovertemplate": "x: %{x}<br>y: %{y}<br>color: %{z}<extra></extra>",
         "name": "0",
         "texttemplate": "%{z:.2f}",
         "type": "heatmap",
         "x": [
          "Time",
          "V1",
          "V2",
          "V3",
          "V4",
          "V5",
          "V6",
          "V7",
          "V8",
          "V9",
          "V10",
          "V11",
          "V12",
          "V13",
          "V14",
          "V15",
          "V16",
          "V17",
          "V18",
          "V19",
          "V20",
          "V21",
          "V22",
          "V23",
          "V24",
          "V25",
          "V26",
          "V27",
          "V28",
          "Amount",
          "Class"
         ],
         "xaxis": "x",
         "y": [
          "Time",
          "V1",
          "V2",
          "V3",
          "V4",
          "V5",
          "V6",
          "V7",
          "V8",
          "V9",
          "V10",
          "V11",
          "V12",
          "V13",
          "V14",
          "V15",
          "V16",
          "V17",
          "V18",
          "V19",
          "V20",
          "V21",
          "V22",
          "V23",
          "V24",
          "V25",
          "V26",
          "V27",
          "V28",
          "Amount",
          "Class"
         ],
         "yaxis": "y",
         "z": {
          "bdata": "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",
          "dtype": "f8",
          "shape": "31, 31"
         }
        }
       ],
       "layout": {
        "coloraxis": {
         "colorscale": [
          [
           0,
           "rgb(5,48,97)"
          ],
          [
           0.1,
           "rgb(33,102,172)"
          ],
          [
           0.2,
           "rgb(67,147,195)"
          ],
          [
           0.3,
           "rgb(146,197,222)"
          ],
          [
           0.4,
           "rgb(209,229,240)"
          ],
          [
           0.5,
           "rgb(247,247,247)"
          ],
          [
           0.6,
           "rgb(253,219,199)"
          ],
          [
           0.7,
           "rgb(244,165,130)"
          ],
          [
           0.8,
           "rgb(214,96,77)"
          ],
          [
           0.9,
           "rgb(178,24,43)"
          ],
          [
           1,
           "rgb(103,0,31)"
          ]
         ]
        },
        "height": 700,
        "template": {
         "data": {
          "bar": [
           {
            "error_x": {
             "color": "#2a3f5f"
            },
            "error_y": {
             "color": "#2a3f5f"
            },
            "marker": {
             "line": {
              "color": "#E5ECF6",
              "width": 0.5
             },
             "pattern": {
              "fillmode": "overlay",
              "size": 10,
              "solidity": 0.2
             }
            },
            "type": "bar"
           }
          ],
          "barpolar": [
           {
            "marker": {
             "line": {
              "color": "#E5ECF6",
              "width": 0.5
             },
             "pattern": {
              "fillmode": "overlay",
              "size": 10,
              "solidity": 0.2
             }
            },
            "type": "barpolar"
           }
          ],
          "carpet": [
           {
            "aaxis": {
             "endlinecolor": "#2a3f5f",
             "gridcolor": "white",
             "linecolor": "white",
             "minorgridcolor": "white",
             "startlinecolor": "#2a3f5f"
            },
            "baxis": {
             "endlinecolor": "#2a3f5f",
             "gridcolor": "white",
             "linecolor": "white",
             "minorgridcolor": "white",
             "startlinecolor": "#2a3f5f"
            },
            "type": "carpet"
           }
          ],
          "choropleth": [
           {
            "colorbar": {
             "outlinewidth": 0,
             "ticks": ""
            },
            "type": "choropleth"
           }
          ],
          "contour": [
           {
            "colorbar": {
             "outlinewidth": 0,
             "ticks": ""
            },
            "colorscale": [
             [
              0,
              "#0d0887"
             ],
             [
              0.1111111111111111,
              "#46039f"
             ],
             [
              0.2222222222222222,
              "#7201a8"
             ],
             [
              0.3333333333333333,
              "#9c179e"
             ],
             [
              0.4444444444444444,
              "#bd3786"
             ],
             [
              0.5555555555555556,
              "#d8576b"
             ],
             [
              0.6666666666666666,
              "#ed7953"
             ],
             [
              0.7777777777777778,
              "#fb9f3a"
             ],
             [
              0.8888888888888888,
              "#fdca26"
             ],
             [
              1,
              "#f0f921"
             ]
            ],
            "type": "contour"
           }
          ],
          "contourcarpet": [
           {
            "colorbar": {
             "outlinewidth": 0,
             "ticks": ""
            },
            "type": "contourcarpet"
           }
          ],
          "heatmap": [
           {
            "colorbar": {
             "outlinewidth": 0,
             "ticks": ""
            },
            "colorscale": [
             [
              0,
              "#0d0887"
             ],
             [
              0.1111111111111111,
              "#46039f"
             ],
             [
              0.2222222222222222,
              "#7201a8"
             ],
             [
              0.3333333333333333,
              "#9c179e"
             ],
             [
              0.4444444444444444,
              "#bd3786"
             ],
             [
              0.5555555555555556,
              "#d8576b"
             ],
             [
              0.6666666666666666,
              "#ed7953"
             ],
             [
              0.7777777777777778,
              "#fb9f3a"
             ],
             [
              0.8888888888888888,
              "#fdca26"
             ],
             [
              1,
              "#f0f921"
             ]
            ],
            "type": "heatmap"
           }
          ],
          "histogram": [
           {
            "marker": {
             "pattern": {
              "fillmode": "overlay",
              "size": 10,
              "solidity": 0.2
             }
            },
            "type": "histogram"
           }
          ],
          "histogram2d": [
           {
            "colorbar": {
             "outlinewidth": 0,
             "ticks": ""
            },
            "colorscale": [
             [
              0,
              "#0d0887"
             ],
             [
              0.1111111111111111,
              "#46039f"
             ],
             [
              0.2222222222222222,
              "#7201a8"
             ],
             [
              0.3333333333333333,
              "#9c179e"
             ],
             [
              0.4444444444444444,
              "#bd3786"
             ],
             [
              0.5555555555555556,
              "#d8576b"
             ],
             [
              0.6666666666666666,
              "#ed7953"
             ],
             [
              0.7777777777777778,
              "#fb9f3a"
             ],
             [
              0.8888888888888888,
              "#fdca26"
             ],
             [
              1,
              "#f0f921"
             ]
            ],
            "type": "histogram2d"
           }
          ],
          "histogram2dcontour": [
           {
            "colorbar": {
             "outlinewidth": 0,
             "ticks": ""
            },
            "colorscale": [
             [
              0,
              "#0d0887"
             ],
             [
              0.1111111111111111,
              "#46039f"
             ],
             [
              0.2222222222222222,
              "#7201a8"
             ],
             [
              0.3333333333333333,
              "#9c179e"
             ],
             [
              0.4444444444444444,
              "#bd3786"
             ],
             [
              0.5555555555555556,
              "#d8576b"
             ],
             [
              0.6666666666666666,
              "#ed7953"
             ],
             [
              0.7777777777777778,
              "#fb9f3a"
             ],
             [
              0.8888888888888888,
              "#fdca26"
             ],
             [
              1,
              "#f0f921"
             ]
            ],
            "type": "histogram2dcontour"
           }
          ],
          "mesh3d": [
           {
            "colorbar": {
             "outlinewidth": 0,
             "ticks": ""
            },
            "type": "mesh3d"
           }
          ],
          "parcoords": [
           {
            "line": {
             "colorbar": {
              "outlinewidth": 0,
              "ticks": ""
             }
            },
            "type": "parcoords"
           }
          ],
          "pie": [
           {
            "automargin": true,
            "type": "pie"
           }
          ],
          "scatter": [
           {
            "fillpattern": {
             "fillmode": "overlay",
             "size": 10,
             "solidity": 0.2
            },
            "type": "scatter"
           }
          ],
          "scatter3d": [
           {
            "line": {
             "colorbar": {
              "outlinewidth": 0,
              "ticks": ""
             }
            },
            "marker": {
             "colorbar": {
              "outlinewidth": 0,
              "ticks": ""
             }
            },
            "type": "scatter3d"
           }
          ],
          "scattercarpet": [
           {
            "marker": {
             "colorbar": {
              "outlinewidth": 0,
              "ticks": ""
             }
            },
            "type": "scattercarpet"
           }
          ],
          "scattergeo": [
           {
            "marker": {
             "colorbar": {
              "outlinewidth": 0,
              "ticks": ""
             }
            },
            "type": "scattergeo"
           }
          ],
          "scattergl": [
           {
            "marker": {
             "colorbar": {
              "outlinewidth": 0,
              "ticks": ""
             }
            },
            "type": "scattergl"
           }
          ],
          "scattermap": [
           {
            "marker": {
             "colorbar": {
              "outlinewidth": 0,
              "ticks": ""
             }
            },
            "type": "scattermap"
           }
          ],
          "scattermapbox": [
           {
            "marker": {
             "colorbar": {
              "outlinewidth": 0,
              "ticks": ""
             }
            },
            "type": "scattermapbox"
           }
          ],
          "scatterpolar": [
           {
            "marker": {
             "colorbar": {
              "outlinewidth": 0,
              "ticks": ""
             }
            },
            "type": "scatterpolar"
           }
          ],
          "scatterpolargl": [
           {
            "marker": {
             "colorbar": {
              "outlinewidth": 0,
              "ticks": ""
             }
            },
            "type": "scatterpolargl"
           }
          ],
          "scatterternary": [
           {
            "marker": {
             "colorbar": {
              "outlinewidth": 0,
              "ticks": ""
             }
            },
            "type": "scatterternary"
           }
          ],
          "surface": [
           {
            "colorbar": {
             "outlinewidth": 0,
             "ticks": ""
            },
            "colorscale": [
             [
              0,
              "#0d0887"
             ],
             [
              0.1111111111111111,
              "#46039f"
             ],
             [
              0.2222222222222222,
              "#7201a8"
             ],
             [
              0.3333333333333333,
              "#9c179e"
             ],
             [
              0.4444444444444444,
              "#bd3786"
             ],
             [
              0.5555555555555556,
              "#d8576b"
             ],
             [
              0.6666666666666666,
              "#ed7953"
             ],
             [
              0.7777777777777778,
              "#fb9f3a"
             ],
             [
              0.8888888888888888,
              "#fdca26"
             ],
             [
              1,
              "#f0f921"
             ]
            ],
            "type": "surface"
           }
          ],
          "table": [
           {
            "cells": {
             "fill": {
              "color": "#EBF0F8"
             },
             "line": {
              "color": "white"
             }
            },
            "header": {
             "fill": {
              "color": "#C8D4E3"
             },
             "line": {
              "color": "white"
             }
            },
            "type": "table"
           }
          ]
         },
         "layout": {
          "annotationdefaults": {
           "arrowcolor": "#2a3f5f",
           "arrowhead": 0,
           "arrowwidth": 1
          },
          "autotypenumbers": "strict",
          "coloraxis": {
           "colorbar": {
            "outlinewidth": 0,
            "ticks": ""
           }
          },
          "colorscale": {
           "diverging": [
            [
             0,
             "#8e0152"
            ],
            [
             0.1,
             "#c51b7d"
            ],
            [
             0.2,
             "#de77ae"
            ],
            [
             0.3,
             "#f1b6da"
            ],
            [
             0.4,
             "#fde0ef"
            ],
            [
             0.5,
             "#f7f7f7"
            ],
            [
             0.6,
             "#e6f5d0"
            ],
            [
             0.7,
             "#b8e186"
            ],
            [
             0.8,
             "#7fbc41"
            ],
            [
             0.9,
             "#4d9221"
            ],
            [
             1,
             "#276419"
            ]
           ],
           "sequential": [
            [
             0,
             "#0d0887"
            ],
            [
             0.1111111111111111,
             "#46039f"
            ],
            [
             0.2222222222222222,
             "#7201a8"
            ],
            [
             0.3333333333333333,
             "#9c179e"
            ],
            [
             0.4444444444444444,
             "#bd3786"
            ],
            [
             0.5555555555555556,
             "#d8576b"
            ],
            [
             0.6666666666666666,
             "#ed7953"
            ],
            [
             0.7777777777777778,
             "#fb9f3a"
            ],
            [
             0.8888888888888888,
             "#fdca26"
            ],
            [
             1,
             "#f0f921"
            ]
           ],
           "sequentialminus": [
            [
             0,
             "#0d0887"
            ],
            [
             0.1111111111111111,
             "#46039f"
            ],
            [
             0.2222222222222222,
             "#7201a8"
            ],
            [
             0.3333333333333333,
             "#9c179e"
            ],
            [
             0.4444444444444444,
             "#bd3786"
            ],
            [
             0.5555555555555556,
             "#d8576b"
            ],
            [
             0.6666666666666666,
             "#ed7953"
            ],
            [
             0.7777777777777778,
             "#fb9f3a"
            ],
            [
             0.8888888888888888,
             "#fdca26"
            ],
            [
             1,
             "#f0f921"
            ]
           ]
          },
          "colorway": [
           "#636efa",
           "#EF553B",
           "#00cc96",
           "#ab63fa",
           "#FFA15A",
           "#19d3f3",
           "#FF6692",
           "#B6E880",
           "#FF97FF",
           "#FECB52"
          ],
          "font": {
           "color": "#2a3f5f"
          },
          "geo": {
           "bgcolor": "white",
           "lakecolor": "white",
           "landcolor": "#E5ECF6",
           "showlakes": true,
           "showland": true,
           "subunitcolor": "white"
          },
          "hoverlabel": {
           "align": "left"
          },
          "hovermode": "closest",
          "mapbox": {
           "style": "light"
          },
          "paper_bgcolor": "white",
          "plot_bgcolor": "#E5ECF6",
          "polar": {
           "angularaxis": {
            "gridcolor": "white",
            "linecolor": "white",
            "ticks": ""
           },
           "bgcolor": "#E5ECF6",
           "radialaxis": {
            "gridcolor": "white",
            "linecolor": "white",
            "ticks": ""
           }
          },
          "scene": {
           "xaxis": {
            "backgroundcolor": "#E5ECF6",
            "gridcolor": "white",
            "gridwidth": 2,
            "linecolor": "white",
            "showbackground": true,
            "ticks": "",
            "zerolinecolor": "white"
           },
           "yaxis": {
            "backgroundcolor": "#E5ECF6",
            "gridcolor": "white",
            "gridwidth": 2,
            "linecolor": "white",
            "showbackground": true,
            "ticks": "",
            "zerolinecolor": "white"
           },
           "zaxis": {
            "backgroundcolor": "#E5ECF6",
            "gridcolor": "white",
            "gridwidth": 2,
            "linecolor": "white",
            "showbackground": true,
            "ticks": "",
            "zerolinecolor": "white"
           }
          },
          "shapedefaults": {
           "line": {
            "color": "#2a3f5f"
           }
          },
          "ternary": {
           "aaxis": {
            "gridcolor": "white",
            "linecolor": "white",
            "ticks": ""
           },
           "baxis": {
            "gridcolor": "white",
            "linecolor": "white",
            "ticks": ""
           },
           "bgcolor": "#E5ECF6",
           "caxis": {
            "gridcolor": "white",
            "linecolor": "white",
            "ticks": ""
           }
          },
          "title": {
           "x": 0.05
          },
          "xaxis": {
           "automargin": true,
           "gridcolor": "white",
           "linecolor": "white",
           "ticks": "",
           "title": {
            "standoff": 15
           },
           "zerolinecolor": "white",
           "zerolinewidth": 2
          },
          "yaxis": {
           "automargin": true,
           "gridcolor": "white",
           "linecolor": "white",
           "ticks": "",
           "title": {
            "standoff": 15
           },
           "zerolinecolor": "white",
           "zerolinewidth": 2
          }
         }
        },
        "title": {
         "text": "Interactive Feature Correlation Heatmap"
        },
        "width": 900,
        "xaxis": {
         "anchor": "y",
         "constrain": "domain",
         "domain": [
          0,
          1
         ],
         "scaleanchor": "y"
        },
        "yaxis": {
         "anchor": "x",
         "autorange": "reversed",
         "constrain": "domain",
         "domain": [
          0,
          1
         ]
        }
       }
      }
     },
     "metadata": {},
     "output_type": "display_data"
    }
   ],
   "source": [
    "# Step 5: Correlation Heatmap\n",
    "import plotly.express as px\n",
    "\n",
    "fig = px.imshow(df.corr(),\n",
    "                text_auto=\".2f\",\n",
    "                color_continuous_scale=\"RdBu_r\",\n",
    "                title=\"Interactive Feature Correlation Heatmap\",\n",
    "                width=900,   # width in pixels\n",
    "                height=700)  # height in pixels\n",
    "\n",
    "fig.show()"
   ]
  },
  {
   "cell_type": "code",
   "execution_count": 55,
   "id": "42994cfe",
   "metadata": {},
   "outputs": [
    {
     "data": {
      "image/png": "[encoded data removed]",
      "text/plain": [
       "<Figure size 1200x500 with 2 Axes>"
      ]
     },
     "metadata": {},
     "output_type": "display_data"
    }
   ],
   "source": [
    "# Step 6: Feature Distribution (Amount & Time)\n",
    "plt.figure(figsize=(12,5))\n",
    "\n",
    "plt.subplot(1,2,1)\n",
    "sns.histplot(df[\"Amount\"], bins=100, kde=True, color=\"blue\")\n",
    "plt.title(\"Transaction Amount Distribution\")\n",
    "\n",
    "plt.subplot(1,2,2)\n",
    "sns.histplot(df[\"Time\"], bins=100, kde=False, color=\"green\")\n",
    "plt.title(\"Transaction Time Distribution\")\n",
    "\n",
    "plt.show()"
   ]
  },
  {
   "cell_type": "code",
   "execution_count": 56,
   "id": "154a721c",
   "metadata": {},
   "outputs": [
    {
     "name": "stdout",
     "output_type": "stream",
     "text": [
      "\n",
      "Duplicate rows: 1081\n",
      "Removed 1081 duplicate rows. New shape: (283726, 31)\n"
     ]
    }
   ],
   "source": [
    "# Step 7: Data Cleaning\n",
    "# Check duplicates\n",
    "duplicates = df.duplicated().sum()\n",
    "print(f\"\\nDuplicate rows: {duplicates}\")\n",
    "\n",
    "if duplicates > 0:\n",
    "    df = df.drop_duplicates()\n",
    "    print(f\"Removed {duplicates} duplicate rows. New shape: {df.shape}\")"
   ]
  },
  {
   "cell_type": "code",
   "execution_count": 57,
   "id": "250ccdfe",
   "metadata": {},
   "outputs": [
    {
     "name": "stdout",
     "output_type": "stream",
     "text": [
      "\n",
      "Train shape: (226980, 30)  Test shape: (56746, 30)\n"
     ]
    }
   ],
   "source": [
    "# Step 8: Train-Test Split\n",
    "X=df.drop('Class',axis=1)\n",
    "y=df['Class']\n",
    "\n",
    "X_train,X_test,y_train,y_test=train_test_split(X,y,test_size=0.2,stratify=y,random_state=42)\n",
    "\n",
    "print(\"\\nTrain shape:\", X_train.shape, \" Test shape:\", X_test.shape)"
   ]
  },
  {
   "cell_type": "code",
   "execution_count": 58,
   "id": "4e35158a",
   "metadata": {},
   "outputs": [
    {
     "name": "stdout",
     "output_type": "stream",
     "text": [
      "\n",
      "Scaled Training Data:\n",
      "             Time    Amount\n",
      "226238  1.045499 -0.229434\n",
      "134253 -0.298690 -0.331197\n",
      "186465  0.678397 -0.298809\n",
      "149493 -0.074929 -0.289247\n",
      "18461  -1.376728 -0.261985\n"
     ]
    }
   ],
   "source": [
    "# Step 9: Feature Scaling (after split, fit only on train)\n",
    "scaler=StandardScaler()\n",
    "\n",
    "# Fit only on training data\n",
    "X_train[['Time','Amount']]=scaler.fit_transform(X_train[['Time','Amount']])\n",
    "\n",
    "# Use same transformation on test data\n",
    "X_test[['Time','Amount']]=scaler.transform(X_test[['Time','Amount']])\n",
    "\n",
    "print(\"\\nScaled Training Data:\\n\", X_train[[\"Time\", \"Amount\"]].head())"
   ]
  },
  {
   "cell_type": "code",
   "execution_count": 59,
   "id": "93a20125",
   "metadata": {},
   "outputs": [
    {
     "data": {
      "text/plain": [
       "['scaler.pkl']"
      ]
     },
     "execution_count": 59,
     "metadata": {},
     "output_type": "execute_result"
    }
   ],
   "source": [
    "import joblib\n",
    "\n",
    "# Save the scaler\n",
    "joblib.dump(scaler, \"scaler.pkl\")"
   ]
  },
  {
   "cell_type": "code",
   "execution_count": 60,
   "id": "297f0a4f",
   "metadata": {},
   "outputs": [
    {
     "name": "stdout",
     "output_type": "stream",
     "text": [
      "\n",
      "Before SMOTE: Counter({0: 226602, 1: 378})\n",
      "After SMOTEENN: Counter({1: 226602, 0: 226271})\n"
     ]
    }
   ],
   "source": [
    "# Step 10: Handling Imbalance (SMOTEENN)\n",
    "print(\"\\nBefore SMOTEENN:\", Counter(y_train))\n",
    "\n",
    "from imblearn.combine import SMOTEENN\n",
    "\n",
    "smote_enn = SMOTEENN(random_state=42)\n",
    "X_train_res, y_train_res = smote_enn.fit_resample(X_train, y_train)\n",
    "\n",
    "print(\"After SMOTEENN:\", Counter(y_train_res))"
   ]
  },
  {
   "cell_type": "code",
   "execution_count": 61,
   "id": "0aa6fa82",
   "metadata": {},
   "outputs": [],
   "source": [
    "X_train_res.to_csv(\"X_train_resampled.csv\", index=False)\n",
    "y_train_res.to_csv(\"y_train_resampled.csv\", index=False)\n",
    "X_test.to_csv(\"X_test.csv\", index=False)\n",
    "y_test.to_csv(\"y_test.csv\", index=False)"
   ]
  },
  {
   "cell_type": "code",
   "execution_count": 62,
   "id": "f249792f",
   "metadata": {},
   "outputs": [
    {
     "name": "stdout",
     "output_type": "stream",
     "text": [
      "\n",
      "✅ Task 1 Completed: Data cleaned, split, scaled (no leakage), and balanced with SMOTE.\n"
     ]
    }
   ],
   "source": [
    "# Final Notes\n",
    "print(\"\\n✅ Task 1 Completed: Data cleaned, split, scaled (no leakage), and balanced with SMOTE.\")"
   ]
  }
 ],
 "metadata": {
  "kernelspec": {
   "display_name": "Python 3",
   "language": "python",
   "name": "python3"
  },
  "language_info": {
   "codemirror_mode": {
    "name": "ipython",
    "version": 3
   },
   "file_extension": ".py",
   "mimetype": "text/x-python",
   "name": "python",
   "nbconvert_exporter": "python",
   "pygments_lexer": "ipython3",
   "version": "3.10.12"
  }
 },
 "nbformat": 4,
 "nbformat_minor": 5
}
